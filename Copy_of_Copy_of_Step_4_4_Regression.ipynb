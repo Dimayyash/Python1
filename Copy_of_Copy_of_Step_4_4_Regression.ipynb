{
  "nbformat": 4,
  "nbformat_minor": 0,
  "metadata": {
    "anaconda-cloud": {},
    "kernelspec": {
      "display_name": "Python 3",
      "language": "python",
      "name": "python3"
    },
    "language_info": {
      "codemirror_mode": {
        "name": "ipython",
        "version": 3
      },
      "file_extension": ".py",
      "mimetype": "text/x-python",
      "name": "python",
      "nbconvert_exporter": "python",
      "pygments_lexer": "ipython3",
      "version": "3.7.1"
    },
    "colab": {
      "name": "Copy of Copy of Step_4_4_Regression.ipynb",
      "provenance": [],
      "collapsed_sections": [],
      "toc_visible": true,
      "include_colab_link": true
    }
  },
  "cells": [
    {
      "cell_type": "markdown",
      "metadata": {
        "id": "view-in-github",
        "colab_type": "text"
      },
      "source": [
        "<a href=\"https://colab.research.google.com/github/Dimayyash/Python1/blob/master/Copy_of_Copy_of_Step_4_4_Regression.ipynb\" target=\"_parent\"><img src=\"https://colab.research.google.com/assets/colab-badge.svg\" alt=\"Open In Colab\"/></a>"
      ]
    },
    {
      "cell_type": "markdown",
      "metadata": {
        "id": "KXjmiP7qKxyB",
        "colab_type": "text"
      },
      "source": [
        "### Regression\n",
        "\n",
        "The regression is one of the fundamental techniques that will help us to find the answer to these types of questions by studying the relationship between the different variables that are relevant to the questions that we are trying to answer. \n",
        "\n",
        "Let’s consider a use case where we have collected students average test grade scores and their respective average studied hours for the test for a group of similar IQ students.  "
      ]
    },
    {
      "cell_type": "code",
      "metadata": {
        "id": "Nnor20cKMUai",
        "colab_type": "code",
        "colab": {}
      },
      "source": [
        "# Code to read csv file into Colaboratory:\n",
        "!pip install -U -q PyDrive\n",
        "import os\n",
        "from pydrive.auth import GoogleAuth\n",
        "from pydrive.drive import GoogleDrive\n",
        "from google.colab import auth\n",
        "from oauth2client.client import GoogleCredentials\n",
        "# Authenticate and create the PyDrive client.\n",
        "auth.authenticate_user()\n",
        "gauth = GoogleAuth()\n",
        "gauth.credentials = GoogleCredentials.get_application_default()\n",
        "drive = GoogleDrive(gauth)"
      ],
      "execution_count": null,
      "outputs": []
    },
    {
      "cell_type": "code",
      "metadata": {
        "id": "xtCmH2nFSxcr",
        "colab_type": "code",
        "colab": {}
      },
      "source": [
        "!pip install PyDrive\n",
        "\n",
        "\n",
        "from pydrive.auth import GoogleAuth\n",
        "from pydrive.drive import GoogleDrive\n",
        "from google.colab import auth\n",
        "from oauth2client.client import GoogleCredentials\n",
        "import os\n",
        "\n",
        "class download_data_from_folder(object):\n",
        "    def __init__(self,path):\n",
        "        path_id = path[path.find('id=')+3:]\n",
        "        self.file_list = self.get_files_in_location(path_id)\n",
        "        self.unwrap_data(self.file_list)\n",
        "    def get_files_in_location(self,folder_id):\n",
        "        file_list = drive.ListFile({'q': \"'{}' in parents and trashed=false\".format(folder_id)}).GetList()\n",
        "        return file_list\n",
        "    def unwrap_data(self,file_list,directory='.'):\n",
        "        for i, file in enumerate(file_list):\n",
        "            print(str((i + 1) / len(file_list) * 100) + '% done copying')\n",
        "            if file['mimeType'].find('folder') != -1:\n",
        "                if not os.path.exists(os.path.join(directory, file['title'])):\n",
        "                    os.makedirs(os.path.join(directory, file['title']))\n",
        "                print('Copying folder ' + os.path.join(directory, file['title']))\n",
        "                self.unwrap_data(self.get_files_in_location(file['id']), os.path.join(directory, file['title']))\n",
        "            else:\n",
        "                if not os.path.exists(os.path.join(directory, file['title'])):\n",
        "                    downloaded = drive.CreateFile({'id': file['id']})\n",
        "                    downloaded.GetContentFile(os.path.join(directory, file['title']))\n",
        "        return None"
      ],
      "execution_count": null,
      "outputs": []
    },
    {
      "cell_type": "code",
      "metadata": {
        "id": "JZ88wtYKTApA",
        "colab_type": "code",
        "colab": {}
      },
      "source": [
        "data_path = 'https://drive.google.com/open?id=13hFQ09ptYr-Ud5xOJ0Xx4cV0akc1RnZw'\n",
        "download_data_from_folder(data_path)"
      ],
      "execution_count": null,
      "outputs": []
    },
    {
      "cell_type": "code",
      "metadata": {
        "id": "ioKx4j9cKxyE",
        "colab_type": "code",
        "colab": {}
      },
      "source": [
        "import pandas as pd\n",
        "import numpy as np\n",
        "import matplotlib.pyplot as plt\n",
        "import scipy.stats as stats\n",
        "\n",
        "# importing linear regression function\n",
        "import sklearn.linear_model as lm\n",
        "\n",
        "# function to calculate r-squared, MAE, RMSE\n",
        "from sklearn.metrics import r2_score , mean_absolute_error, mean_squared_error\n",
        "\n",
        "%matplotlib inline"
      ],
      "execution_count": null,
      "outputs": []
    },
    {
      "cell_type": "markdown",
      "metadata": {
        "id": "JmW_622QKxyO",
        "colab_type": "text"
      },
      "source": [
        "### Let's plot grades obtained vs hours studied "
      ]
    },
    {
      "cell_type": "code",
      "metadata": {
        "id": "DCM4qf-vKxyT",
        "colab_type": "code",
        "colab": {}
      },
      "source": [
        "# Load data\n",
        "df = pd.read_csv('Grade_Set_1.csv')\n",
        "print(df)\n",
        "\n",
        "# Simple scatter plot\n",
        "df.plot(kind='scatter', x='Hours_Studied', y='Test_Grade', title='Grade vs Hours Studied')\n",
        "plt.show()\n",
        "# check the correlation between variables\n",
        "print(\"Correlation Matrix: \")\n",
        "print(df.corr())\n",
        "\n",
        "# Lets plot the distribution\n",
        "fit = stats.norm.pdf(df.Test_Grade, np.mean(df.Test_Grade), np.std(df.Test_Grade))  \n",
        "plt.plot(df.Test_Grade,fit,'-o')\n",
        "plt.hist(df.Test_Grade,density=True)     \n",
        "plt.show() "
      ],
      "execution_count": null,
      "outputs": []
    },
    {
      "cell_type": "code",
      "metadata": {
        "id": "FBwK2P7gKxym",
        "colab_type": "code",
        "colab": {}
      },
      "source": [
        "# Create linear regression object\n",
        "lr = lm.LinearRegression()\n",
        "\n",
        "x= df.Hours_Studied[:, np.newaxis] # independent variable\n",
        "y= df.Test_Grade.values            # dependent variable \n",
        "\n",
        "# Train the model using the training sets\n",
        "lr.fit(x, y)\n",
        "print(\"Intercept: \", lr.intercept_)\n",
        "print(\"Coefficient: \", lr.coef_)\n",
        "\n",
        "# manual prediction for a given value of x\n",
        "print(\"Manual prediction :\", 49.67777777777776 + 5.01666667*6)\n",
        "\n",
        "# predict using the built-in function\n",
        "print(\"Using predict function: \", lr.predict([[6]]))\n",
        "\n",
        "# plotting fitted line\n",
        "plt.scatter(x, y,  color='black')\n",
        "plt.plot(x, lr.predict(x), color='blue', linewidth=3)\n",
        "plt.title('Grade vs Hours Studied')\n",
        "plt.ylabel('Test_Grade')\n",
        "plt.xlabel('Hours_Studied')"
      ],
      "execution_count": null,
      "outputs": []
    },
    {
      "cell_type": "code",
      "metadata": {
        "id": "Pw38_zHSKxyv",
        "colab_type": "code",
        "colab": {}
      },
      "source": [
        "# Let's check the performance of fitted model through R-squared\n",
        "\n",
        "# add predict value to the data frame\n",
        "df['Test_Grade_Pred'] = lr.predict(x)\n",
        "\n",
        "# Manually calculating R Squared\n",
        "df['SST'] = np.square(df['Test_Grade'] - df['Test_Grade'].mean())\n",
        "df['SSR'] = np.square(df['Test_Grade_Pred'] - df['Test_Grade'].mean())\n",
        "\n",
        "print(\"Sum of SSR:\", df['SSR'].sum())\n",
        "print(\"Sum of SST:\", df['SST'].sum())\n",
        "\n",
        "print(df)\n",
        "df.to_csv('r-squared.csv', index=False)\n",
        "\n",
        "print(\"R Squared using manual calculation: \", df['SSR'].sum() / df['SST'].sum())\n",
        "\n",
        "# Using built-in function\n",
        "print(\"R Squared using built-in function: \", r2_score(df.Test_Grade,  df.Test_Grade_Pred))\n",
        "print(\"Mean Absolute Error: \", mean_absolute_error(df.Test_Grade, df.Test_Grade_Pred))\n",
        "print(\"Root Mean Squared Error: \", np.sqrt(mean_squared_error(df.Test_Grade, df.Test_Grade_Pred)))"
      ],
      "execution_count": null,
      "outputs": []
    },
    {
      "cell_type": "markdown",
      "metadata": {
        "id": "qzDf3zJ-Kxy3",
        "colab_type": "text"
      },
      "source": [
        "### Outliers\n",
        "\n",
        "Lets introduce a outlier i.e., a student has studied 5 hours and scored 100. Assume that this student is has higher IQ than others in this group. Notice the drop in R-squared value. So it is important to apply business logic to avoid including outliers in the training data set to generalize the model and increase accuracy"
      ]
    },
    {
      "cell_type": "code",
      "metadata": {
        "id": "_qgOi6OaKxy5",
        "colab_type": "code",
        "colab": {}
      },
      "source": [
        "# Load data\n",
        "df = pd.read_csv('Grade_Set_1.csv')\n",
        "\n",
        "df.loc[9] = np.array([5, 100])\n",
        "\n",
        "x= df.Hours_Studied[:, np.newaxis] # independent variable\n",
        "y= df.Test_Grade.values            # dependent variable \n",
        "\n",
        "# Train the model using the training sets\n",
        "lr.fit(x, y)\n",
        "print(\"Intercept: \", lr.intercept_)\n",
        "print(\"Coefficient: \", lr.coef_)\n",
        "\n",
        "# manual prediction for a given value of x\n",
        "print(\"Manual prediction :\", 54.4022988505747 + 4.64367816*6)\n",
        "\n",
        "# predict using the built-in function\n",
        "print(\"Using predict function: \", lr.predict([[6]]))\n",
        "\n",
        "# plotting fitted line\n",
        "plt.scatter(x, y,  color='black')\n",
        "plt.plot(x, lr.predict(x), color='blue', linewidth=3)\n",
        "plt.title('Grade vs Hours Studied')\n",
        "plt.ylabel('Test_Grade')\n",
        "plt.xlabel('Hours_Studied')\n",
        "\n",
        "# add predict value to the data frame\n",
        "df['Test_Grade_Pred'] = lr.predict(x)\n",
        "\n",
        "# Using built-in function\n",
        "print(\"R Squared : \", r2_score(df.Test_Grade,  df.Test_Grade_Pred))\n",
        "print(\"Mean Absolute Error: \", mean_absolute_error(df.Test_Grade, df.Test_Grade_Pred))\n",
        "print(\"Root Mean Squared Error: \", np.sqrt(mean_squared_error(df.Test_Grade, df.Test_Grade_Pred)))"
      ],
      "execution_count": null,
      "outputs": []
    },
    {
      "cell_type": "markdown",
      "metadata": {
        "id": "aerPtOJFKxy_",
        "colab_type": "text"
      },
      "source": [
        "# Polynomial\n",
        "\n",
        "It is a form higher order linear regression modeled between dependent and independent variables as an nth degree polynomial."
      ]
    },
    {
      "cell_type": "code",
      "metadata": {
        "id": "FJozR6mHKxzA",
        "colab_type": "code",
        "colab": {}
      },
      "source": [
        "x = np.linspace(-3,3,1000)\n",
        "\n",
        "# Plot subplots\n",
        "fig, ((ax1, ax2, ax3), (ax4, ax5, ax6)) = plt.subplots(nrows=2, ncols=3)\n",
        "\n",
        "ax1.plot(x, x)\n",
        "ax1.set_title('linear')\n",
        "ax2.plot(x, x**2)\n",
        "ax2.set_title('degree 2')\n",
        "ax3.plot(x, x**3)\n",
        "ax3.set_title('degree 3')\n",
        "ax4.plot(x, x**4)\n",
        "ax4.set_title('degree 4')\n",
        "ax5.plot(x, x**5)\n",
        "ax5.set_title('degree 5')\n",
        "ax6.plot(x, x**6)\n",
        "ax6.set_title('degree 6')\n",
        "\n",
        "# tidy layout\n",
        "plt.tight_layout()"
      ],
      "execution_count": null,
      "outputs": []
    },
    {
      "cell_type": "markdown",
      "metadata": {
        "id": "QVJ085MkKxzM",
        "colab_type": "text"
      },
      "source": [
        "Let’s consider another set of students average test grade scores and their respective average studied hours for similar IQ students."
      ]
    },
    {
      "cell_type": "code",
      "metadata": {
        "id": "IG7L0vlsKxzN",
        "colab_type": "code",
        "colab": {}
      },
      "source": [
        "# Load data\n",
        "df = pd.read_csv('Grade_Set_2.csv')\n",
        "print(df)\n",
        "\n",
        "# Simple scatter plot\n",
        "df.plot(kind='scatter', x='Hours_Studied', y='Test_Grade', title='Grade vs Hours Studied')\n",
        "\n",
        "# check the correlation between variables\n",
        "print(\"Correlation Matrix: \")\n",
        "df.corr()"
      ],
      "execution_count": null,
      "outputs": []
    },
    {
      "cell_type": "code",
      "metadata": {
        "id": "hm8qEdIIKxzh",
        "colab_type": "code",
        "colab": {}
      },
      "source": [
        "# Create linear regression object\n",
        "lr = lm.LinearRegression()\n",
        "\n",
        "x= df.Hours_Studied[:, np.newaxis]           # independent variable\n",
        "y= df.Test_Grade                             # dependent variable \n",
        "\n",
        "# Train the model using the training sets\n",
        "lr.fit(x, y)\n",
        "print(\"Intercept: \", lr.intercept_)\n",
        "print(\"Coefficient: \", lr.coef_)\n",
        "\n",
        "# manual prediction for a given value of x\n",
        "print(\"Manual prdiction :\", 7.27106067219556 + 7.25447403*6)\n",
        "\n",
        "# predict using the built-in function\n",
        "print(\"Using predict function: \", lr.predict([[6]]))\n",
        "\n",
        "# plotting fitted line\n",
        "plt.scatter(x, y,  color='black')\n",
        "plt.plot(x, lr.predict(x), color='blue', linewidth=3)\n",
        "plt.title('Grade vs Hours Studied')\n",
        "plt.ylabel('Test_Grade')\n",
        "plt.xlabel('Hours_Studied')\n",
        "\n",
        "print(\"R Squared: \", r2_score(y, lr.predict(x)))"
      ],
      "execution_count": null,
      "outputs": []
    },
    {
      "cell_type": "markdown",
      "metadata": {
        "id": "C50s2LbNKxzu",
        "colab_type": "text"
      },
      "source": [
        "NumPy's vander function will return powers of the input vector"
      ]
    },
    {
      "cell_type": "code",
      "metadata": {
        "id": "FdMFAqvDKxzw",
        "colab_type": "code",
        "colab": {}
      },
      "source": [
        "lr = lm.LinearRegression()\n",
        "\n",
        "x= df.Hours_Studied        # independent variable\n",
        "y= df.Test_Grade           # dependent variable \n",
        "\n",
        "# NumPy's vander function will return powers of the input vector\n",
        "for deg in [1, 2, 3, 4, 5]:\n",
        "    lr.fit(np.vander(x, deg + 1), y);\n",
        "    y_lr = lr.predict(np.vander(x, deg + 1))\n",
        "    plt.plot(x, y_lr, label='degree ' + str(deg));\n",
        "    plt.legend(loc=2);\n",
        "    print(\"R-squared for degree \" + str(deg) + \" = \",  r2_score(y, y_lr))\n",
        "plt.plot(x, y, 'ok')"
      ],
      "execution_count": null,
      "outputs": []
    },
    {
      "cell_type": "markdown",
      "metadata": {
        "id": "a5yCZ8XAKxz5",
        "colab_type": "text"
      },
      "source": [
        "sklearn provides a function to generate a new feature matrix consisting of all polynomial combinations of the features with degree less than or equal to the specified degree"
      ]
    },
    {
      "cell_type": "code",
      "metadata": {
        "id": "bvv9Siz8Kxz_",
        "colab_type": "code",
        "colab": {}
      },
      "source": [
        "from sklearn.preprocessing import PolynomialFeatures\n",
        "from sklearn.pipeline import make_pipeline\n",
        "\n",
        "x= df.Hours_Studied[:, np.newaxis] # independent variable\n",
        "y= df.Test_Grade                   # dependent variable \n",
        "\n",
        "degree = 3\n",
        "model = make_pipeline(PolynomialFeatures(degree), lr)\n",
        "\n",
        "\n",
        "model.fit(x, y)\n",
        "\n",
        "plt.scatter(x, y,  color='black')\n",
        "plt.plot(x, model.predict(x), color='green')\n",
        "plt.title('Grade vs Hours Studied')\n",
        "plt.ylabel('Test_Grade')\n",
        "plt.xlabel('Hours_Studied')\n",
        "\n",
        "print(\"R Squared using built-in function: \", r2_score(y, model.predict(x)))"
      ],
      "execution_count": null,
      "outputs": []
    }
  ]
}